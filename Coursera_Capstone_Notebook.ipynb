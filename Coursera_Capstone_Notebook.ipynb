{
    "cells": [
        {
            "cell_type": "markdown",
            "metadata": {},
            "source": "# <center> Best Neighborhood for A New Vegan Restaurant </center>"
        },
        {
            "cell_type": "markdown",
            "metadata": {},
            "source": "# Introduction\nWith rising concerns on the health and environmental impacts of meat-based diets, many individuals are choosing to opt for plant-based nutrition. However, the traditional restaurant industry has yet to catch up with the growing demand of vegan options. This disparity between demand and supply presents the perfect opportunity and market entry point for a vegan restaurant. \n\nOne of the most important aspect of opening a new restaurant is choosing its location. This is exactly the goal of this data analysis - **choosing the best neighborhood in New York City for a vegan joint**."
        },
        {
            "cell_type": "markdown",
            "metadata": {},
            "source": "# Data\nFor this analysis, the primary source of data will be Foursquare. First, we will explore if there are neighborhoods that are already hubs for vegan restaurants. Next, based on those results, we will try to identify if there are trends in the neighborhoods where vegan restaurants are clustered. Finally we will find if there are other neighborhoods with similar trends where the number of vegan restaurants are lower which will present a potential new "
        }
    ],
    "metadata": {
        "kernelspec": {
            "display_name": "Python 3.7",
            "language": "python",
            "name": "python3"
        },
        "language_info": {
            "codemirror_mode": {
                "name": "ipython",
                "version": 3
            },
            "file_extension": ".py",
            "mimetype": "text/x-python",
            "name": "python",
            "nbconvert_exporter": "python",
            "pygments_lexer": "ipython3",
            "version": "3.7.9"
        }
    },
    "nbformat": 4,
    "nbformat_minor": 1
}